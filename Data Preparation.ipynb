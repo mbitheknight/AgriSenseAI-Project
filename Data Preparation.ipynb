{
 "cells": [
  {
   "cell_type": "markdown",
   "id": "9b8d1eaa-6627-4d65-ac81-872da0a551c1",
   "metadata": {},
   "source": [
    "# Business Understading"
   ]
  },
  {
   "cell_type": "code",
   "execution_count": 127,
   "id": "a8cc75d0-01ae-48d6-a6aa-ed83573cd3da",
   "metadata": {},
   "outputs": [],
   "source": [
    "# Import relevant libraries\n",
    "import pandas as pd\n",
    "import numpy as np\n",
    "import matplotlib.pyplot as plt\n",
    "import seaborn as sns\n",
    "import warnings\n",
    "warnings.filterwarnings('ignore')"
   ]
  },
  {
   "cell_type": "code",
   "execution_count": 128,
   "id": "2a922af4-9711-4aff-8cae-59d50771f7f7",
   "metadata": {},
   "outputs": [
    {
     "data": {
      "text/html": [
       "<div>\n",
       "<style scoped>\n",
       "    .dataframe tbody tr th:only-of-type {\n",
       "        vertical-align: middle;\n",
       "    }\n",
       "\n",
       "    .dataframe tbody tr th {\n",
       "        vertical-align: top;\n",
       "    }\n",
       "\n",
       "    .dataframe thead th {\n",
       "        text-align: right;\n",
       "    }\n",
       "</style>\n",
       "<table border=\"1\" class=\"dataframe\">\n",
       "  <thead>\n",
       "    <tr style=\"text-align: right;\">\n",
       "      <th></th>\n",
       "      <th>Date</th>\n",
       "      <th>Price (KES/kg)</th>\n",
       "      <th>Market Demand Factor</th>\n",
       "      <th>NDVI Index</th>\n",
       "      <th>Market</th>\n",
       "      <th>County</th>\n",
       "      <th>Retail</th>\n",
       "      <th>Temperature (°C)</th>\n",
       "      <th>Humidity (%)</th>\n",
       "      <th>Rainfall (mm)</th>\n",
       "      <th>Crop</th>\n",
       "    </tr>\n",
       "  </thead>\n",
       "  <tbody>\n",
       "    <tr>\n",
       "      <th>0</th>\n",
       "      <td>2024-10-10</td>\n",
       "      <td>30.0</td>\n",
       "      <td>0.874540</td>\n",
       "      <td>0.597815</td>\n",
       "      <td>Kipkaren</td>\n",
       "      <td>Kakamega</td>\n",
       "      <td>50.0</td>\n",
       "      <td>21.714509</td>\n",
       "      <td>72.476894</td>\n",
       "      <td>74.299546</td>\n",
       "      <td>Avocado</td>\n",
       "    </tr>\n",
       "    <tr>\n",
       "      <th>1</th>\n",
       "      <td>2024-10-10</td>\n",
       "      <td>75.0</td>\n",
       "      <td>1.450714</td>\n",
       "      <td>0.562021</td>\n",
       "      <td>Kimilili town</td>\n",
       "      <td>Bungoma</td>\n",
       "      <td>100.0</td>\n",
       "      <td>33.369485</td>\n",
       "      <td>44.648370</td>\n",
       "      <td>230.078112</td>\n",
       "      <td>Avocado</td>\n",
       "    </tr>\n",
       "    <tr>\n",
       "      <th>2</th>\n",
       "      <td>2024-10-10</td>\n",
       "      <td>56.0</td>\n",
       "      <td>1.231994</td>\n",
       "      <td>0.300125</td>\n",
       "      <td>Kalundu</td>\n",
       "      <td>Kitui</td>\n",
       "      <td>100.0</td>\n",
       "      <td>27.972654</td>\n",
       "      <td>78.401591</td>\n",
       "      <td>87.477061</td>\n",
       "      <td>Avocado</td>\n",
       "    </tr>\n",
       "    <tr>\n",
       "      <th>3</th>\n",
       "      <td>2024-10-10</td>\n",
       "      <td>55.0</td>\n",
       "      <td>1.098658</td>\n",
       "      <td>0.724650</td>\n",
       "      <td>Mwatate</td>\n",
       "      <td>Taita-Taveta</td>\n",
       "      <td>60.0</td>\n",
       "      <td>32.789410</td>\n",
       "      <td>81.101858</td>\n",
       "      <td>214.489439</td>\n",
       "      <td>Avocado</td>\n",
       "    </tr>\n",
       "    <tr>\n",
       "      <th>4</th>\n",
       "      <td>2024-10-09</td>\n",
       "      <td>25.0</td>\n",
       "      <td>0.656019</td>\n",
       "      <td>0.344342</td>\n",
       "      <td>Sabatia</td>\n",
       "      <td>Kakamega</td>\n",
       "      <td>40.0</td>\n",
       "      <td>24.057928</td>\n",
       "      <td>45.508103</td>\n",
       "      <td>120.197286</td>\n",
       "      <td>Avocado</td>\n",
       "    </tr>\n",
       "  </tbody>\n",
       "</table>\n",
       "</div>"
      ],
      "text/plain": [
       "         Date  Price (KES/kg)  Market Demand Factor  NDVI Index  \\\n",
       "0  2024-10-10            30.0              0.874540    0.597815   \n",
       "1  2024-10-10            75.0              1.450714    0.562021   \n",
       "2  2024-10-10            56.0              1.231994    0.300125   \n",
       "3  2024-10-10            55.0              1.098658    0.724650   \n",
       "4  2024-10-09            25.0              0.656019    0.344342   \n",
       "\n",
       "            Market          County Retail  Temperature (°C)  Humidity (%)  \\\n",
       "0        Kipkaren        Kakamega    50.0         21.714509     72.476894   \n",
       "1   Kimilili town         Bungoma   100.0         33.369485     44.648370   \n",
       "2         Kalundu           Kitui   100.0         27.972654     78.401591   \n",
       "3         Mwatate    Taita-Taveta    60.0         32.789410     81.101858   \n",
       "4         Sabatia        Kakamega    40.0         24.057928     45.508103   \n",
       "\n",
       "   Rainfall (mm)       Crop  \n",
       "0      74.299546   Avocado   \n",
       "1     230.078112   Avocado   \n",
       "2      87.477061   Avocado   \n",
       "3     214.489439   Avocado   \n",
       "4     120.197286   Avocado   "
      ]
     },
     "execution_count": 128,
     "metadata": {},
     "output_type": "execute_result"
    }
   ],
   "source": [
    "df = pd.read_csv(\"final_raw_market_data.csv\")\n",
    "df.head()"
   ]
  },
  {
   "cell_type": "code",
   "execution_count": 129,
   "id": "2fb053e7-c3a2-4976-b6f0-fa84acc23868",
   "metadata": {},
   "outputs": [
    {
     "data": {
      "text/plain": [
       "Date                      0\n",
       "Price (KES/kg)          302\n",
       "Market Demand Factor      0\n",
       "NDVI Index                0\n",
       "Market                    0\n",
       "County                  222\n",
       "Retail                  800\n",
       "Temperature (°C)          0\n",
       "Humidity (%)              0\n",
       "Rainfall (mm)             0\n",
       "Crop                      0\n",
       "dtype: int64"
      ]
     },
     "execution_count": 129,
     "metadata": {},
     "output_type": "execute_result"
    }
   ],
   "source": [
    "df.isnull().sum()"
   ]
  },
  {
   "cell_type": "code",
   "execution_count": 130,
   "id": "fbc4a0b8-0df7-4a72-9c11-be3fc3624de6",
   "metadata": {},
   "outputs": [
    {
     "name": "stdout",
     "output_type": "stream",
     "text": [
      "<class 'pandas.core.frame.DataFrame'>\n",
      "RangeIndex: 51726 entries, 0 to 51725\n",
      "Data columns (total 11 columns):\n",
      " #   Column                Non-Null Count  Dtype  \n",
      "---  ------                --------------  -----  \n",
      " 0   Date                  51726 non-null  object \n",
      " 1   Price (KES/kg)        51424 non-null  float64\n",
      " 2   Market Demand Factor  51726 non-null  float64\n",
      " 3   NDVI Index            51726 non-null  float64\n",
      " 4   Market                51726 non-null  object \n",
      " 5   County                51504 non-null  object \n",
      " 6   Retail                50926 non-null  object \n",
      " 7   Temperature (°C)      51726 non-null  float64\n",
      " 8   Humidity (%)          51726 non-null  float64\n",
      " 9   Rainfall (mm)         51726 non-null  float64\n",
      " 10  Crop                  51726 non-null  object \n",
      "dtypes: float64(6), object(5)\n",
      "memory usage: 4.3+ MB\n"
     ]
    }
   ],
   "source": [
    "df.info()"
   ]
  },
  {
   "cell_type": "code",
   "execution_count": 131,
   "id": "29cc1943-b068-417e-8ac2-120a065d484f",
   "metadata": {},
   "outputs": [
    {
     "data": {
      "text/plain": [
       "np.int64(300)"
      ]
     },
     "execution_count": 131,
     "metadata": {},
     "output_type": "execute_result"
    }
   ],
   "source": [
    "df.duplicated().sum()"
   ]
  },
  {
   "cell_type": "code",
   "execution_count": null,
   "id": "13c07d59-105b-4584-95a0-822f5ac82f85",
   "metadata": {},
   "outputs": [],
   "source": []
  },
  {
   "cell_type": "markdown",
   "id": "47c50b12-c662-4280-bf1a-bad9cd2860f9",
   "metadata": {},
   "source": [
    "# 2. Data Understanding"
   ]
  },
  {
   "cell_type": "code",
   "execution_count": 132,
   "id": "f3902541-5c06-4324-919c-6f7a42085bd3",
   "metadata": {},
   "outputs": [],
   "source": [
    "from Classes import DataUnderstanding"
   ]
  },
  {
   "cell_type": "code",
   "execution_count": 133,
   "id": "1310791b-6747-46f6-9f50-0af0f5dacd9c",
   "metadata": {},
   "outputs": [
    {
     "name": "stdout",
     "output_type": "stream",
     "text": [
      "\n",
      " First 5 Rows:\n",
      "         Date  Price (KES/kg)  Market Demand Factor  NDVI Index  \\\n",
      "0  2024-10-10            30.0              0.874540    0.597815   \n",
      "1  2024-10-10            75.0              1.450714    0.562021   \n",
      "2  2024-10-10            56.0              1.231994    0.300125   \n",
      "3  2024-10-10            55.0              1.098658    0.724650   \n",
      "4  2024-10-09            25.0              0.656019    0.344342   \n",
      "\n",
      "            Market          County Retail  Temperature (°C)  Humidity (%)  \\\n",
      "0        Kipkaren        Kakamega    50.0         21.714509     72.476894   \n",
      "1   Kimilili town         Bungoma   100.0         33.369485     44.648370   \n",
      "2         Kalundu           Kitui   100.0         27.972654     78.401591   \n",
      "3         Mwatate    Taita-Taveta    60.0         32.789410     81.101858   \n",
      "4         Sabatia        Kakamega    40.0         24.057928     45.508103   \n",
      "\n",
      "   Rainfall (mm)       Crop  \n",
      "0      74.299546   Avocado   \n",
      "1     230.078112   Avocado   \n",
      "2      87.477061   Avocado   \n",
      "3     214.489439   Avocado   \n",
      "4     120.197286   Avocado   \n",
      "\n",
      " Last 5 Rows:\n",
      "             Date  Price (KES/kg)  Market Demand Factor  NDVI Index  \\\n",
      "51721  2023-06-10           100.0              1.368809    0.275815   \n",
      "51722  2022-08-03            80.0              0.702261    0.344571   \n",
      "51723  2022-06-23            20.0              1.005867    0.452973   \n",
      "51724  2023-01-23            65.0              1.451084    0.233291   \n",
      "51725  2021-11-21            20.0              1.423300    0.345357   \n",
      "\n",
      "               Market         County Retail  Temperature (°C)  Humidity (%)  \\\n",
      "51721      Mpeketoni           Lamu     NaN         15.551868     79.084021   \n",
      "51722        Gongoni         Kilifi     NaN         21.594862     79.813975   \n",
      "51723       Muhoroni         Kisumu     NaN         32.368212     34.657191   \n",
      "51724   Eldoret Main    Uasin-Gishu     NaN         32.887687     83.844186   \n",
      "51725         Ikonge        Nyamira     NaN         34.896421     88.272666   \n",
      "\n",
      "       Rainfall (mm)       Crop  \n",
      "51721     151.402862    Tomato   \n",
      "51722      78.545663    Tomato   \n",
      "51723     150.482772    Tomato   \n",
      "51724      26.007888     Maize   \n",
      "51725     217.096873   Avocado   \n",
      "\n",
      " Dataset Shape: 51726 rows, 11 columns\n",
      "\n",
      " Column Names:\n",
      "['Date', 'Price (KES/kg)', 'Market Demand Factor', 'NDVI Index', 'Market', 'County', 'Retail', 'Temperature (°C)', 'Humidity (%)', 'Rainfall (mm)', 'Crop']\n",
      "\n",
      " Data Types:\n",
      "Date                     object\n",
      "Price (KES/kg)          float64\n",
      "Market Demand Factor    float64\n",
      "NDVI Index              float64\n",
      "Market                   object\n",
      "County                   object\n",
      "Retail                   object\n",
      "Temperature (°C)        float64\n",
      "Humidity (%)            float64\n",
      "Rainfall (mm)           float64\n",
      "Crop                     object\n",
      "dtype: object\n",
      "\n",
      " Dataset Info:\n",
      "<class 'pandas.core.frame.DataFrame'>\n",
      "RangeIndex: 51726 entries, 0 to 51725\n",
      "Data columns (total 11 columns):\n",
      " #   Column                Non-Null Count  Dtype  \n",
      "---  ------                --------------  -----  \n",
      " 0   Date                  51726 non-null  object \n",
      " 1   Price (KES/kg)        51424 non-null  float64\n",
      " 2   Market Demand Factor  51726 non-null  float64\n",
      " 3   NDVI Index            51726 non-null  float64\n",
      " 4   Market                51726 non-null  object \n",
      " 5   County                51504 non-null  object \n",
      " 6   Retail                50926 non-null  object \n",
      " 7   Temperature (°C)      51726 non-null  float64\n",
      " 8   Humidity (%)          51726 non-null  float64\n",
      " 9   Rainfall (mm)         51726 non-null  float64\n",
      " 10  Crop                  51726 non-null  object \n",
      "dtypes: float64(6), object(5)\n",
      "memory usage: 4.3+ MB\n",
      "None\n",
      "\n",
      " Summary Statistics:\n",
      "       Price (KES/kg)  Market Demand Factor    NDVI Index  Temperature (°C)  \\\n",
      "count    51424.000000          51726.000000  51726.000000      51726.000000   \n",
      "mean        81.433849              0.999085      0.499791         25.030678   \n",
      "std       4461.427607              0.288457      0.172990          5.777568   \n",
      "min          0.010000             -0.500000      0.200005        -10.000000   \n",
      "25%         31.670000              0.749056      0.349782         19.996077   \n",
      "50%         49.965000              0.999400      0.501091         25.047385   \n",
      "75%         65.000000              1.248254      0.650227         30.031879   \n",
      "max     999999.000000              1.499972      0.799995         34.999788   \n",
      "\n",
      "       Humidity (%)  Rainfall (mm)  \n",
      "count  51726.000000   51726.000000  \n",
      "mean      60.028793     150.034703  \n",
      "std       17.337242      86.662737  \n",
      "min       30.000287     -20.000000  \n",
      "25%       45.007013      74.796313  \n",
      "50%       60.007672     149.622351  \n",
      "75%       74.951020     224.781555  \n",
      "max      200.000000     299.993778  \n"
     ]
    }
   ],
   "source": [
    "df = pd.read_csv(\"final_raw_market_data.csv\")\n",
    "data_report = DataUnderstanding(df)\n",
    "data_report.full_report()"
   ]
  },
  {
   "cell_type": "markdown",
   "id": "e962519c-bba6-4e52-8cbe-63b95b87937c",
   "metadata": {},
   "source": [
    "# 3. Data Preparation"
   ]
  },
  {
   "cell_type": "markdown",
   "id": "a3315388-38bb-4110-8488-8d4654041cd0",
   "metadata": {},
   "source": [
    "## 3.1. Data Cleaning"
   ]
  },
  {
   "cell_type": "markdown",
   "id": "bf92caf9-6d4b-45bc-9810-dd01d09400a6",
   "metadata": {},
   "source": [
    "### 3.1.1 Validity"
   ]
  },
  {
   "cell_type": "markdown",
   "id": "3d002945-7958-4a7d-a4ae-2f0c826be59c",
   "metadata": {},
   "source": [
    "#### 3.1.1.1. Incorrect Data Types: Date & Retail "
   ]
  },
  {
   "cell_type": "code",
   "execution_count": 134,
   "id": "6870bf94-f220-4c66-ba2b-d9c879cadd85",
   "metadata": {},
   "outputs": [],
   "source": [
    "df['Date'] = pd.to_datetime(df['Date'], format='%Y-%m-%d', errors='coerce')\n",
    "df = df[(df['Date'] >= '2021-01-01') & (df['Date'] <= '2024-12-31')]"
   ]
  },
  {
   "cell_type": "code",
   "execution_count": 135,
   "id": "afbc8ef1-fa57-471b-8eea-eda3b36e1629",
   "metadata": {},
   "outputs": [],
   "source": [
    "# Clean the 'Rainfall (mm)' column before conversion\n",
    "df['Retail'] = df['Retail'].astype(str).str.strip()  # Remove spaces\n",
    "df['Retail'] = df['Retail'].str.replace(r'[^0-9.]', '', regex=True)  # Keep only numbers and dots\n",
    "df['Retail'] = pd.to_numeric(df['Retail'], errors='coerce')  # Convert to numeric\n",
    "# df['Retail']= df['Retail'].fillna(df['Retail'].median()) # fill "
   ]
  },
  {
   "cell_type": "markdown",
   "id": "047d829c-a448-459e-bacf-50d12567b6a2",
   "metadata": {},
   "source": [
    "#### 3.1.1.2. Illogical or Invalid Values:"
   ]
  },
  {
   "cell_type": "code",
   "execution_count": 138,
   "id": "ae1a14e4-bbbf-4ff9-b64e-2a0a393b850f",
   "metadata": {},
   "outputs": [],
   "source": [
    "# Temparature - based on the average temperatures in Kenya\n",
    "df.loc[(df['Temperature (°C)'] < 0) | (df['Temperature (°C)'] > 50), 'Temperature (°C)'] = np.nan\n",
    "df = df.dropna(subset = 'Temperature (°C)')"
   ]
  },
  {
   "cell_type": "code",
   "execution_count": 139,
   "id": "91f19aad-1041-44c6-b997-47a40108109a",
   "metadata": {},
   "outputs": [],
   "source": [
    "# Fixing Humidity (Humidity (%))\n",
    "df['Humidity (%)'] = df['Humidity (%)'].clip(lower=0, upper=100)\n"
   ]
  },
  {
   "cell_type": "code",
   "execution_count": 140,
   "id": "e3e34b97-ef2f-46da-924d-2ade2cb1dc29",
   "metadata": {},
   "outputs": [],
   "source": [
    "# Fixing Market Demand Factor- This value should not be negative in economics.\n",
    "df['Market Demand Factor'] = df['Market Demand Factor'].abs()"
   ]
  },
  {
   "cell_type": "code",
   "execution_count": 141,
   "id": "c1433d93-90a4-4685-b81b-f3679ea0526b",
   "metadata": {},
   "outputs": [],
   "source": [
    "# Fixing Rainfall (Rainfall (mm))- cannot be negative\n",
    "df.loc[df['Rainfall (mm)'] < 0, 'Rainfall (mm)'] = 0"
   ]
  },
  {
   "cell_type": "code",
   "execution_count": 142,
   "id": "0f7dd51b-bc9e-45fb-8ffe-b0bab5f01faf",
   "metadata": {},
   "outputs": [],
   "source": [
    "# Fixing abnormal values in Retail column based on maerket prices\n",
    "df = df[(df['Retail'] >= 10) & (df['Retail'] <= 400)]"
   ]
  },
  {
   "cell_type": "markdown",
   "id": "69fe0a0d-005e-47f9-811f-b340e41c8897",
   "metadata": {},
   "source": [
    "#### 3.1.1.3. Invalid Dates"
   ]
  },
  {
   "cell_type": "code",
   "execution_count": 143,
   "id": "a1b5600d-c556-4b17-a057-3e4285cc7ce9",
   "metadata": {},
   "outputs": [],
   "source": [
    "from datetime import datetime\n",
    "\n",
    "today = datetime.today().date()\n",
    "df.loc[df['Date'] > pd.to_datetime(today), 'Date'] = np.nan # days to today\n",
    "df['Date'] = pd.to_datetime(df['Date'], errors='coerce', format='%Y-%m-%d')\n"
   ]
  },
  {
   "cell_type": "markdown",
   "id": "8c95601d-50eb-4f3b-9a4a-c96e8a174328",
   "metadata": {},
   "source": [
    "### 3.1.2 Completeness(Handling Missing Values)"
   ]
  },
  {
   "cell_type": "code",
   "execution_count": 147,
   "id": "32b2cd25-6f18-42bd-b22e-e4fad91c481e",
   "metadata": {},
   "outputs": [],
   "source": [
    "# Price (KES/kg) and County column\n",
    "df = df.dropna(subset=['Price (KES/kg)', 'County'])\n",
    "df = df.rename(columns={'Price (KES/kg)': 'Wholesale'})"
   ]
  },
  {
   "cell_type": "markdown",
   "id": "942a663b-991e-4fe9-8402-49821010388c",
   "metadata": {},
   "source": [
    "### 3.1.3. Accuracy(Correcting Outliers & Extreme Values)"
   ]
  },
  {
   "cell_type": "code",
   "execution_count": 148,
   "id": "c24ae794-d740-4316-a261-8a8e21afd8b7",
   "metadata": {},
   "outputs": [
    {
     "name": "stdout",
     "output_type": "stream",
     "text": [
      "{'Wholesale': 1518, 'Market Demand Factor': 0, 'NDVI Index': 0, 'Retail': 1844, 'Temperature (°C)': 0, 'Humidity (%)': 0, 'Rainfall (mm)': 0}\n"
     ]
    },
    {
     "data": {
      "text/plain": [
       "(47033, 11)"
      ]
     },
     "execution_count": 148,
     "metadata": {},
     "output_type": "execute_result"
    }
   ],
   "source": [
    "# Select numerical columns\n",
    "num_cols = df.select_dtypes(include=[np.number]).columns\n",
    "outlier_counts = {}\n",
    "for col in num_cols:\n",
    "    Q1 = df[col].quantile(0.25)  \n",
    "    Q3 = df[col].quantile(0.75) \n",
    "    IQR = Q3 - Q1  \n",
    "    lower_bound = Q1 - 1.5 * IQR\n",
    "    upper_bound = Q3 + 1.5 * IQR\n",
    "    outliers = df[(df[col] < lower_bound) | (df[col] > upper_bound)]\n",
    "    outlier_counts[col] = len(outliers)\n",
    "print(outlier_counts)# print the outliers\n",
    "# Drop outliers since it is a small percentage of the data\n",
    "df = df[(df[col] >= lower_bound) & (df[col] <= upper_bound)]\n",
    "df.shape"
   ]
  },
  {
   "cell_type": "markdown",
   "id": "8be116f5-8f7c-41e6-b4c1-98499c558aa5",
   "metadata": {},
   "source": [
    "### 3.1.4. Consistency (Standardizing Categorical Data)"
   ]
  },
  {
   "cell_type": "code",
   "execution_count": 150,
   "id": "d6a5cddd-a3e2-4351-a0e8-b7c9d87f5d64",
   "metadata": {},
   "outputs": [
    {
     "data": {
      "text/plain": [
       "np.int64(0)"
      ]
     },
     "execution_count": 150,
     "metadata": {},
     "output_type": "execute_result"
    }
   ],
   "source": [
    "# Checking for duplicates and removing duplicates\n",
    "df.duplicated().sum()"
   ]
  },
  {
   "cell_type": "code",
   "execution_count": 151,
   "id": "8b5e728b-9841-427b-99cd-bd895a907dcf",
   "metadata": {},
   "outputs": [
    {
     "name": "stdout",
     "output_type": "stream",
     "text": [
      "[' Kakamega ' ' Bungoma ' ' Kitui ' ' Taita-Taveta ' ' Embu ' ' Siaya '\n",
      " ' Tharaka-Nithi ' ' Kirinyaga ' ' Kilifi ' ' Meru ' ' Muranga ' ' Kwale '\n",
      " ' Nyamira ' ' Bomet ' ' Makueni ' ' Trans-Nzoia ' ' Nairobi ' ' Nandi '\n",
      " ' Nairobii ' ' Uasin-Gishu ' ' Migori ' ' Kisumu ' ' Nyandarua '\n",
      " ' Busia ' ' Kisii ' ' Nakuru ' ' Vihiga ' ' Kericho ' ' Nyeri '\n",
      " ' Garissa ' ' Lamu ' ' Kajiado ' ' Laikipia ' ' West-Pokot ' ' Samburu '\n",
      " ' Mombasa ' ' Homa-bay ' ' Baringo ' ' Elgeyo-Marakwet ' ' Turkana '\n",
      " ' Machakos ' ' Wajir ' ' Mandera ' ' Isiolo ' ' Narok ' ' Tana-River '\n",
      " ' Kiambu ' ' Marsabit ']\n"
     ]
    }
   ],
   "source": [
    "# Checking for any spelling errors in Market and County columns\n",
    "print(df['County'].unique())"
   ]
  },
  {
   "cell_type": "code",
   "execution_count": 152,
   "id": "2e62519c-41b6-4c91-b3ab-aa8180860b12",
   "metadata": {},
   "outputs": [],
   "source": [
    "# Fix known spelling errors\n",
    "fix_typos = {'Nairobii': 'Nairobi'}\n",
    "df['County'] = df['County'].replace(fix_typos)\n"
   ]
  },
  {
   "cell_type": "code",
   "execution_count": 153,
   "id": "fbb4a8e8-fb66-4fdb-b5fd-60a9b835087d",
   "metadata": {},
   "outputs": [
    {
     "data": {
      "text/plain": [
       "array([' Kipkaren ', ' Kimilili town ', ' Kalundu ', ' Mwatate ',\n",
       "       ' Sabatia ', ' Embu Town ', ' Makutano Embu ', ' Bondo ',\n",
       "       ' Chuka ', ' Ngurubani Market ', ' Aram ', ' Gongoni ',\n",
       "       ' Charo wa Mae ', ' Gakoromone ', ' Kerugoya ',\n",
       "       ' Kabati - Muranga ', ' Kinango ', ' Kagio ', ' Miruka ',\n",
       "       ' Mogogosiek Market ', ' Kathonzweni ', ' Bondeni ', ' nairobi ',\n",
       "       ' Nairobi Wakulima ', ' Khayega ', ' Kibiok ', ' Mumias ',\n",
       "       ' Makutano Kirinyaga ', ' Mulot ', ' Kakamega Town ', ' Kangeta ',\n",
       "       ' Eldoret Main ', ' Awendo ', ' Chwele ', ' Kutus ', ' Muhoroni ',\n",
       "       ' Akala ', ' Mukuyu Market ', ' Wundanyi ', ' Keroka ', ' Mtwapa ',\n",
       "       ' Mwingi Town ', ' Mwangulu ', ' Kiria-ini Market ',\n",
       "       ' Taveta Retail Market ', ' Kabiyet Market ',\n",
       "       ' Kitale Municipality Market ', ' Ndanai Market ',\n",
       "       ' Butere Livestock Market ', ' Kawangware ', ' Ikonge ',\n",
       "       ' Bungoma town ', ' Chepterit Market - Nandi ', ' Kangemi Market ',\n",
       "       ' Kamukuywa ', ' Kimumu - Bahati ', ' Marindi ', ' Sikhendu ',\n",
       "       ' Kisasi ', ' Kabati Kitui ', ' Kapsabet Market ', ' Mariakani ',\n",
       "       ' Ol-Kalou ', ' Malindi Old Market ', ' Ahero ', ' Gikomba ',\n",
       "       ' Kapkwen ', ' Busia Market ', ' Daraja Mbili ', ' Nyakoe ',\n",
       "       ' Kebirigo ', ' Naivasha Market ', ' Bahati ', ' Cheptulu ',\n",
       "       ' Rongo ', ' Luanda ', ' Kipsitet ', ' Karatina ',\n",
       "       ' Garissa Soko Mugdi ', ' Mpeketoni ', ' Diani Market ',\n",
       "       ' Kitengela ', ' Nanyuki Open Air Market ',\n",
       "       ' Makutano West Pokot ', ' Kilingili ',\n",
       "       ' Maralal livestock market ', ' Kiserian crops market ',\n",
       "       ' Soko mpya ', ' Sega ', ' Mois Bridge ', ' Mghange ',\n",
       "       ' Kongowea ', ' Gakindu ', ' Nyeri open air ', ' Mbita ',\n",
       "       ' Nyansiongo ', ' Amoni ', ' Gatunga ', \" Wath Ong'er \",\n",
       "       ' Kiritiri ', ' Cheptiret - Uasin Gishu ', ' Kajiado Market ',\n",
       "       ' Emali Market ', ' Sibanga ', ' Kericho Town ', ' Ndhiwa ',\n",
       "       ' Marigat ', ' Kasikeu ', ' Kiminini - Kitale ', ' Ngong market ',\n",
       "       ' Engineer ', ' Mowlem Market ', ' Webuye town ', ' Nyangusu ',\n",
       "       ' Ugunja ', ' Samburu ', ' Kapcherop ', ' Eldama Ravine ',\n",
       "       ' Kasuku ', ' Shika Adabu ', ' Orolwo ', ' Chaka ',\n",
       "       ' Lodwar Fresh Produce ', ' Kangari ', ' Masii Crops ',\n",
       "       ' Soko Mjinga Wajir ', ' Kagunduini ', ' Serem - Nandi ',\n",
       "       ' Chebunyo ', ' Molo ', ' Makupa Majengo ',\n",
       "       ' Kakuma Modern Market ', ' Katito ', ' Keumbu ', ' Kimumu ',\n",
       "       ' Elwak Market ', ' Mogunga ', ' Kaare ', ' Kambu ',\n",
       "       ' Tala Centre Market ', ' Chumvini Livestock Market ', ' Mogotio ',\n",
       "       ' Loitoktok Market ', ' Nyahururu Municipal Market ', ' Kaanwa ',\n",
       "       ' Athi River Open air Market ', ' Takaba Market ',\n",
       "       ' Kimanjo Food Crops Market ', ' Rumuruti Food Crops Market ',\n",
       "       ' Isiolo Fresh Produce ', ' Kabarnet ', ' Muthurwa ',\n",
       "       ' Sondu- Kericho ', ' Homabay Soko Mjinga ', ' Stadium - Kitale ',\n",
       "       ' NgareMare Livestock Market ', ' Emurua Dikkir ', ' Mabera ',\n",
       "       ' Ortum ', ' Garsen livestock Market ', ' Holo ', ' Lomut ',\n",
       "       ' Taveta ', ' Chepareria ', ' Kibuye ', ' Suneka ', ' Siakago ',\n",
       "       ' Mairo-inya ', ' Wangige ', ' Banisa Market ', ' Chepseon ',\n",
       "       ' Musoli Market ', ' Nakuru Top Market ', ' Kimana Crops market ',\n",
       "       ' Ilbissil Livestock Market ', ' Malimili Livestock Market ',\n",
       "       ' Kapkatet ', ' Machakos Main Market ', ' Limuru Rongai Market ',\n",
       "       ' Lolkuniyani ', ' Lungalunga ', ' Langas ', ' Lekuru ',\n",
       "       ' Ndanai ', ' Lokiriama Livestock Market ', ' Maua ',\n",
       "       ' Lubao Livestock Market ', ' Githurai ', ' Amukura ', ' Siaya ',\n",
       "       ' Port Victoria ', ' Illbissil Food Market ', ' Flax ',\n",
       "       ' Kapsowar ', ' Nakuru Wakulima ', ' Mouwarak Crops Market ',\n",
       "       ' Serem - Vihiga ', ' Nunguni ', ' Poro market ', ' Iten ',\n",
       "       ' Othaya ', ' Mokowe Fish Landing Site ', ' Runyenjes ',\n",
       "       ' Oyugis ', ' Kapkayo ', ' Tseikuru ', ' Kathwana ', ' Mbale ',\n",
       "       ' Nkubu ', ' Nyakwere ', ' Chepsonoi Market ', ' Jamhuri Market ',\n",
       "       ' Kamwangi ', ' Takaba Livestock Market ', ' Rhamu Market ',\n",
       "       ' Bura market ', ' Laza open air ', ' Lokichar ', ' Nambale ',\n",
       "       ' Nagele Livestock Market ', ' Kirwara Market ', ' Kavisuni ',\n",
       "       ' Moyale Crops fresh produce ', ' Madaraka ', ' Mokowe ',\n",
       "       ' Mandera Market ', ' Kiunga Market ', ' Tawa ', ' Oldonyiro ',\n",
       "       ' Merti  Livestock Market ', \" Ololulung'a Market \",\n",
       "       ' Majengo Vihiga ', ' Kababu ', ' Nyakongo ', ' Voi Livestock ',\n",
       "       ' Keroka Kisii ', ' Nginyang ', ' Voi Retail ',\n",
       "       ' Nambacha Market ', ' Lamu ', ' Oldonyiro Livestock Market ',\n",
       "       ' Mouwarak Livestock Market ', ' Njoro ',\n",
       "       ' Marsabit modern market ', ' Nyabite ', ' Nyamakima ',\n",
       "       ' Isebania Market ', ' Elwak Livestock Market ',\n",
       "       ' Banisa Livestock Market ', ' Mutha '], dtype=object)"
      ]
     },
     "execution_count": 153,
     "metadata": {},
     "output_type": "execute_result"
    }
   ],
   "source": [
    "# Check for trailing spaces\n",
    "df['Market'].unique()"
   ]
  },
  {
   "cell_type": "code",
   "execution_count": 154,
   "id": "7838b260-bcc9-4178-b781-1274105d49e3",
   "metadata": {},
   "outputs": [],
   "source": [
    "# Removing any trailing spaces \n",
    "df['Market'] = df['Market'].str.strip().str.title().str.replace(r'\\s+', ' ', regex=True)"
   ]
  },
  {
   "cell_type": "markdown",
   "id": "dff51d2d-595f-4388-9891-6174c832ae0f",
   "metadata": {},
   "source": [
    "### 3.1.5. Uniformity (Ensuring Data Formatting & Units Are Standardized)"
   ]
  },
  {
   "cell_type": "code",
   "execution_count": 155,
   "id": "b1042a3e-c2d2-49e9-9c5b-3894aa0e935a",
   "metadata": {},
   "outputs": [],
   "source": [
    "# Convert numerical values to two decimal places\n",
    "df['Wholesale'] = df['Wholesale'].round(2)\n",
    "df['Retail'] = df['Retail'].round(2)\n",
    "df['Market Demand Factor'] = df['Market Demand Factor'].round(2)\n",
    "# Convert weather  values to one decimal places\n",
    "df['Temperature (°C)'] = df['Temperature (°C)'].round(1)\n",
    "df['Humidity (%)'] = df['Humidity (%)'].round(1)\n",
    "df['Rainfall (mm)'] = df['Rainfall (mm)'].round(1)"
   ]
  },
  {
   "cell_type": "code",
   "execution_count": 156,
   "id": "36c4ff78-88de-405f-80d8-da520ccc0b50",
   "metadata": {},
   "outputs": [
    {
     "name": "stdout",
     "output_type": "stream",
     "text": [
      "<class 'pandas.core.frame.DataFrame'>\n",
      "Index: 47033 entries, 0 to 51425\n",
      "Data columns (total 11 columns):\n",
      " #   Column                Non-Null Count  Dtype         \n",
      "---  ------                --------------  -----         \n",
      " 0   Date                  47033 non-null  datetime64[ns]\n",
      " 1   Wholesale             47033 non-null  float64       \n",
      " 2   Market Demand Factor  47033 non-null  float64       \n",
      " 3   NDVI Index            47033 non-null  float64       \n",
      " 4   Market                47033 non-null  object        \n",
      " 5   County                47033 non-null  object        \n",
      " 6   Retail                47033 non-null  float64       \n",
      " 7   Temperature (°C)      47033 non-null  float64       \n",
      " 8   Humidity (%)          47033 non-null  float64       \n",
      " 9   Rainfall (mm)         47033 non-null  float64       \n",
      " 10  Crop                  47033 non-null  object        \n",
      "dtypes: datetime64[ns](1), float64(7), object(3)\n",
      "memory usage: 4.3+ MB\n"
     ]
    }
   ],
   "source": [
    "df.info()"
   ]
  }
 ],
 "metadata": {
  "kernelspec": {
   "display_name": "Python (api)",
   "language": "python",
   "name": "api"
  },
  "language_info": {
   "codemirror_mode": {
    "name": "ipython",
    "version": 3
   },
   "file_extension": ".py",
   "mimetype": "text/x-python",
   "name": "python",
   "nbconvert_exporter": "python",
   "pygments_lexer": "ipython3",
   "version": "3.12.8"
  }
 },
 "nbformat": 4,
 "nbformat_minor": 5
}
